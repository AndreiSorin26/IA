{
 "cells": [
  {
   "cell_type": "code",
   "execution_count": 15,
   "metadata": {},
   "outputs": [],
   "source": [
    "import numpy as np\n",
    "\n",
    "class MyLinearRegression():\n",
    "    def __init__(self, learning_rate: float = 0.01, regulation_term: float = 0.01, iterations: int = 1000):\n",
    "        self.learning_rate = learning_rate\n",
    "        self.iterations = iterations\n",
    "        self.regulation_term = regulation_term\n",
    "        \n",
    "    def fit(self, X: np.ndarray, y: np.ndarray) -> None:\n",
    "        self.weights = np.zeros((y.shape[1], X.shape[1]))\n",
    "        self.bias = np.zeros(y.shape[1])\n",
    "        \n",
    "        for _ in range(self.iterations):\n",
    "            dW = np.zeros(self.weights.shape)\n",
    "            db = np.zeros(self.bias.shape)\n",
    "            \n",
    "            for i in range(X.shape[0]):\n",
    "                y_hat = np.dot(self.weights, X[i]) + self.bias\n",
    "                dW += 2 * np.outer((y_hat - y[i]), X[i])\n",
    "                db += 2 * (y_hat - y[i])\n",
    "            \n",
    "            dW /= X.shape[0]\n",
    "            dW += 2 * self.regulation_term * self.weights\n",
    "            db /= X.shape[0] \n",
    "            \n",
    "            self.weights -= self.learning_rate * dW\n",
    "            self.bias -= self.learning_rate * db\n",
    "            \n",
    "    def predict(self, X: np.ndarray) -> np.ndarray:\n",
    "        return np.array(list(map(lambda x: np.dot(self.weights, x) + self.bias, X)))"
   ]
  },
  {
   "cell_type": "code",
   "execution_count": 21,
   "metadata": {},
   "outputs": [
    {
     "name": "stdout",
     "output_type": "stream",
     "text": [
      "R2 score for custom implementation: 0.8851974823989215\n",
      "R2 score for sklearn implementation: 0.9508460370201635\n"
     ]
    }
   ],
   "source": [
    "from sklearn.model_selection import train_test_split\n",
    "from sklearn.metrics import r2_score\n",
    "from sklearn.linear_model import LinearRegression\n",
    "import numpy as np\n",
    "\n",
    "\n",
    "def generate_data(n: int) -> np.ndarray:\n",
    "    X = np.random.rand(n, 2)\n",
    "    y = np.array([np.array([X[i][0] * 5 + 1, X[i][1] * 4 - 2]) + np.random.rand(2) for i in range(n)])\n",
    "    return X, y\n",
    "\n",
    "r2_score_average_custom = 0\n",
    "r2_score_average_sklearn = 0\n",
    "for _ in range(10):\n",
    "    X, y = generate_data(1000)\n",
    "    X_train, X_test, y_train, y_test = train_test_split(X, y, test_size=0.2)\n",
    "\n",
    "    lr = MyLinearRegression()\n",
    "    lr.fit(X_train, y_train)\n",
    "    y_pred = lr.predict(X_test)\n",
    "    r2_score_average_custom += r2_score(y_test, y_pred)\n",
    "    \n",
    "    lr = LinearRegression()\n",
    "    lr.fit(X_train, y_train)\n",
    "    y_pred = lr.predict(X_test)\n",
    "    r2_score_average_sklearn += r2_score(y_test, y_pred)\n",
    "    \n",
    "print(f'R2 score for custom implementation: {r2_score_average_custom / 10}')\n",
    "print(f'R2 score for sklearn implementation: {r2_score_average_sklearn / 10}')    "
   ]
  }
 ],
 "metadata": {
  "kernelspec": {
   "display_name": "Python 3",
   "language": "python",
   "name": "python3"
  },
  "language_info": {
   "codemirror_mode": {
    "name": "ipython",
    "version": 3
   },
   "file_extension": ".py",
   "mimetype": "text/x-python",
   "name": "python",
   "nbconvert_exporter": "python",
   "pygments_lexer": "ipython3",
   "version": "3.12.0"
  }
 },
 "nbformat": 4,
 "nbformat_minor": 2
}
